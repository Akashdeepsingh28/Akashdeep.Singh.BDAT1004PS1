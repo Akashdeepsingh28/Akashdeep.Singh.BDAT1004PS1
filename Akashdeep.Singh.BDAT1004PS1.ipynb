{
 "cells": [
  {
   "cell_type": "markdown",
   "id": "5f1dd96d-487f-473f-b487-6fd33780ef2a",
   "metadata": {},
   "source": [
    "# Problem Set 1 Solution\n"
   ]
  },
  {
   "cell_type": "markdown",
   "id": "fed23e8c-e95c-4bcc-919f-b8c7aa73458f",
   "metadata": {},
   "source": [
    "## Question 1\n",
    "What data type is each of the following (evaluate where necessary)?"
   ]
  },
  {
   "cell_type": "markdown",
   "id": "ec714882-439c-4c1c-91d2-0009a6f9fc8e",
   "metadata": {},
   "source": [
    "5\n",
    "\n",
    "5.0\n",
    "\n",
    "5 > 1\n",
    "\n",
    "'5' \n",
    "\n",
    "5 * 2\n",
    "\n",
    "'5' * 2\n",
    "\n",
    "'5' + '2'\n",
    "\n",
    "5 / 2\n",
    "\n",
    "5 % 2\n",
    "\n",
    "{5, 2, 1}\n",
    "\n",
    "5 == 3\n",
    "\n",
    "Pi (the number)"
   ]
  },
  {
   "cell_type": "markdown",
   "id": "b69448fb-bf90-4c01-b00c-6b0057d43a22",
   "metadata": {},
   "source": [
    "## Answer 1"
   ]
  },
  {
   "cell_type": "markdown",
   "id": "f0d8333c-9b8b-4d6f-8601-dd23e23bbc04",
   "metadata": {},
   "source": [
    "# Using Type() command we  can evaluate the data types\n",
    "\n",
    "int\n",
    "\n",
    "float\n",
    "\n",
    "boolean\n",
    "\n",
    "string\n",
    "\n",
    "int\n",
    "\n",
    "string\n",
    "\n",
    "string\n",
    "\n",
    "float\n",
    "\n",
    "int\n",
    "\n",
    "set     # type({5, 2, 1})\n",
    "\n",
    "boolean\n",
    "\n",
    "float   # for pi, we first import math library then define pi = math.pi, now use type(pi)"
   ]
  },
  {
   "cell_type": "markdown",
   "id": "fed7915e-5a84-4c3b-bffd-f5f86620d17b",
   "metadata": {},
   "source": [
    "## Question 2"
   ]
  },
  {
   "cell_type": "markdown",
   "id": "afd51212-520b-4f41-ba24-809f53f72bf7",
   "metadata": {},
   "source": [
    "Write (and evaluate) python expressions that answer these questions:\n",
    "\n",
    "    a. How many letters are there in 'Supercalifragilisticexpialidocious'?\n",
    "    b. Does 'Supercalifragilisticexpialidocious' contain 'ice' as a substring? \n",
    "    c. Which of the following words is the longest:\n",
    "        Supercalifragilisticexpialidocious, Honorificabilitudinitatibus, or Bababadalgharaghtakamminarronnkonn?\n",
    "    d. Which composer comes first in the dictionary: 'Berlioz', 'Borodin', 'Brian', 'Bartok', 'Bellini', 'Buxtehude', 'Bernstein'. Which one comes last?\n"
   ]
  },
  {
   "cell_type": "markdown",
   "id": "f8c7b185-b44d-438f-a989-0c7b1641efe0",
   "metadata": {},
   "source": [
    "## Answer 2"
   ]
  },
  {
   "cell_type": "code",
   "execution_count": 1,
   "id": "336d6201-5460-45df-9ce5-9134507c4f7e",
   "metadata": {},
   "outputs": [
    {
     "name": "stdout",
     "output_type": "stream",
     "text": [
      "34\n"
     ]
    }
   ],
   "source": [
    "# answer a\n",
    "print(len('Supercalifragilisticexpialidocious'))"
   ]
  },
  {
   "cell_type": "code",
   "execution_count": 4,
   "id": "75587e60-ed95-4fba-a593-634d2fc77a4c",
   "metadata": {},
   "outputs": [
    {
     "name": "stdout",
     "output_type": "stream",
     "text": [
      "True\n"
     ]
    }
   ],
   "source": [
    "# answer b\n",
    "word_find = 'ice' in 'Supercalifragilisticexpialidocious'\n",
    "print(word_find)"
   ]
  },
  {
   "cell_type": "code",
   "execution_count": 12,
   "id": "23521c93-f5e3-4b43-81e6-70d15d4b8482",
   "metadata": {},
   "outputs": [
    {
     "name": "stdout",
     "output_type": "stream",
     "text": [
      "34\n",
      "27\n",
      "34\n",
      "Supercalifragilisticexpialidocious\n"
     ]
    }
   ],
   "source": [
    "# answer c\n",
    "print(len('Supercalifragilisticexpialidocious'))\n",
    "print(len('Honorificabilitudinitatibus'))\n",
    "print(len('Bababadalgharaghtakamminarronnkonn'))\n",
    "\n",
    "longest_word = max('Supercalifragilisticexpialidocious', 'Honorificabilitudinitatibus', 'Bababadalgharaghtakamminarronnkonn')\n",
    "print(longest_word)\n",
    "\n",
    "# Although first and last word both have 37 characters so numerically they both are longest word \n",
    "# but max() function returns only single maximum element, hence it chooses only one entry"
   ]
  },
  {
   "cell_type": "code",
   "execution_count": 20,
   "id": "26dc4c35-753b-4609-8e7c-e5f7fb908d2b",
   "metadata": {},
   "outputs": [
    {
     "name": "stdout",
     "output_type": "stream",
     "text": [
      "The first composer in the dictionary: Bernstein\n",
      "The last composer in the dictionary: Bernstein\n"
     ]
    }
   ],
   "source": [
    "# answer d\n",
    "# make a list of all composers\n",
    "composers = ['Berlioz', 'Borodin', 'Brian', 'Bartok', 'Bellini', 'Buxtehude', 'Bernstein']\n",
    "\n",
    "# use for loop to iterate through every composers\n",
    "for first_composer in composers:\n",
    "    if first_composer < composers[0]:\n",
    "        composers[0] = first_composer\n",
    "print(f\"The first composer in the dictionary: {first_composer}\")           # The use of f-string is taken from w3 schools\n",
    "\n",
    "\n",
    "for last_composer in composers:\n",
    "    if last_composer > composers[0]:\n",
    "        composers[0] = last_composer\n",
    "print(f\"The last composer in the dictionary: {last_composer}\")\n",
    "    "
   ]
  },
  {
   "cell_type": "markdown",
   "id": "063f6651-a3b8-4640-91c4-2686c1920bf2",
   "metadata": {},
   "source": [
    "## Question 3"
   ]
  },
  {
   "cell_type": "markdown",
   "id": "3d628631-f369-4122-be65-615c7f3da5bb",
   "metadata": {},
   "source": [
    "Implement function triangleArea(a,b,c) that takes as input the lengths of the 3 sides of a triangle and returns the area of the triangle. By Heron's formula, the area of a triangle with side lengths a, b, and c is sqrt(s(s - a)(s -b)(s -c)), where s = (a+b+c)/2. "
   ]
  },
  {
   "cell_type": "markdown",
   "id": "76748476-a3ec-4ef6-902b-b117ccf9f654",
   "metadata": {},
   "source": [
    "## Answer 3"
   ]
  },
  {
   "cell_type": "code",
   "execution_count": 28,
   "id": "85bf5cf7-cbbd-48bc-a682-dede6906b9c0",
   "metadata": {},
   "outputs": [
    {
     "name": "stdout",
     "output_type": "stream",
     "text": [
      "1.7320508075688772\n"
     ]
    }
   ],
   "source": [
    "# For using math related functions we have to import math library\n",
    "import math\n",
    "def triangleArea(a,b,c):\n",
    "    s = ( a + b + c ) / 2\n",
    "    area = math.sqrt( s * (s - a) * (s -b) * (s -c))\n",
    "    return area\n",
    "\n",
    "print(triangleArea(2, 2, 2))\n"
   ]
  },
  {
   "cell_type": "markdown",
   "id": "f80d92f6-5088-49a6-adb9-d7c55af880a6",
   "metadata": {},
   "source": [
    "## Question 4"
   ]
  },
  {
   "cell_type": "markdown",
   "id": "520793ce-a39a-47af-95c5-d08442a7b510",
   "metadata": {},
   "source": [
    "Write a program in python to separate odd and even integers in separate arrays. Go to the editor\n",
    "\n",
    "Test Data :\n",
    "\n",
    "Input the number of elements to be stored in the array :5\n",
    "\n",
    "Input 5 elements in the array :\n",
    "\n",
    "element - 0 : 25\n",
    "\n",
    "element - 1 : 47\n",
    "\n",
    "element - 2 : 42\n",
    "\n",
    "element - 3 : 56\n",
    "\n",
    "element - 4 : 32\n"
   ]
  },
  {
   "cell_type": "markdown",
   "id": "75e1bed4-0cce-4823-9e42-0a6f2121deaa",
   "metadata": {},
   "source": [
    "## Answer 4"
   ]
  },
  {
   "cell_type": "code",
   "execution_count": 33,
   "id": "83e36917-481e-4008-a5a5-c8351f14cc3e",
   "metadata": {},
   "outputs": [
    {
     "name": "stdin",
     "output_type": "stream",
     "text": [
      "Input the number of elements to be stored in the array : 5\n"
     ]
    },
    {
     "name": "stdout",
     "output_type": "stream",
     "text": [
      " Input 5 elements in the array:\n"
     ]
    },
    {
     "name": "stdin",
     "output_type": "stream",
     "text": [
      "element - 0 :  25\n",
      "element - 1 :  47\n",
      "element - 2 :  42\n",
      "element - 3 :  56\n",
      "element - 4 :  32\n"
     ]
    },
    {
     "name": "stdout",
     "output_type": "stream",
     "text": [
      "The Even elements are: [42, 56, 32]\n",
      "The Odd elements are: [25, 47]\n"
     ]
    }
   ],
   "source": [
    "def separate_odd_even():\n",
    "    n = int(input(\"Input the number of elements to be stored in the array :\"))\n",
    "\n",
    "    # making empty list to store values\n",
    "    even_numbers = []\n",
    "    odd_numbers = []\n",
    "\n",
    "    print(f\" Input {n} elements in the array:\")\n",
    "    for number in range(n):\n",
    "        element = int(input(f\"element - {number} : \"))\n",
    "\n",
    "        if element % 2 == 0:\n",
    "            even_numbers.append(element)\n",
    "        else:\n",
    "            odd_numbers.append(element)\n",
    "\n",
    "    print(\"The Even elements are:\", even_numbers)\n",
    "    print(\"The Odd elements are:\", odd_numbers)\n",
    "\n",
    "separate_odd_even()"
   ]
  },
  {
   "cell_type": "markdown",
   "id": "5ccfe161-ca47-4f39-9dbd-9f167f765ed3",
   "metadata": {},
   "source": [
    "## Question 5"
   ]
  },
  {
   "cell_type": "markdown",
   "id": "e0fa44f5-15b2-443e-ada0-3b970d19e3bf",
   "metadata": {},
   "source": [
    "a. Write a function inside(x,y,x1,y1,x2,y2) that returns True or False depending on whether the   point (x,y) lies in the rectangle with lower left corner (x1,y1) and upper right corner (x2,y2).\n",
    "\n",
    "b. Use function inside() from part a. to write an expression that tests whether the point (1,1) lies in both of the following rectangles: one with lower left corner (0.3, 0.5) and upper right corner (1.1, 0.7) and the other with lower left corner (0.5, 0.2) and upper right corner (1.1, 2). "
   ]
  },
  {
   "cell_type": "markdown",
   "id": "e458a9e0-6629-417f-84e8-d0cbe67420c5",
   "metadata": {},
   "source": [
    "## Answer 5"
   ]
  },
  {
   "cell_type": "code",
   "execution_count": 39,
   "id": "a2a261b8-0290-4236-9d02-2530dad6b347",
   "metadata": {},
   "outputs": [
    {
     "name": "stdout",
     "output_type": "stream",
     "text": [
      "True\n",
      "False\n"
     ]
    }
   ],
   "source": [
    "# Answer a\n",
    "def inside(x, y, x1, y1, x2, y2 ):\n",
    "    if x >= x1 and x <= x2:\n",
    "        if y >= y1 and y <= y2:\n",
    "            return True\n",
    "    return False\n",
    "\n",
    "print(inside(1,1,0,0,2,3))\n",
    "print(inside(-1,-1,0,0,2,3))"
   ]
  },
  {
   "cell_type": "code",
   "execution_count": 42,
   "id": "6b5dc968-e288-4894-95b5-36fe2efc8f8b",
   "metadata": {},
   "outputs": [
    {
     "name": "stdout",
     "output_type": "stream",
     "text": [
      "The point (1, 1) does not inside both rectangles.\n"
     ]
    }
   ],
   "source": [
    "# Answer b\n",
    "# Set the coordinates of point (1, 1)\n",
    "x = 1\n",
    "y = 1\n",
    "\n",
    "# set the ccordinates of first rectancgle\n",
    "rec1_x1 = 0.3\n",
    "rec1_y1 = 0.5\n",
    "rec1_x2 = 1.1\n",
    "rec1_y2 = 0.7\n",
    "\n",
    "# set the coordinates of second rectangle\n",
    "rec2_x1 = 0.5\n",
    "rec2_y1 = 0.2\n",
    "rec2_x2 = 1.1\n",
    "rec2_y2 = 2\n",
    "\n",
    "if inside(x, y, rec1_x1, rec1_y1, rec1_x2, rec1_y2) and inside(x, y,rec2_x1, rec2_y1, rec2_x2, rec2_y2):\n",
    "    print(\"The point (1, 1) is inside both rectangles.\")\n",
    "else:\n",
    "    print(\"The point (1, 1) does not inside both rectangles.\")"
   ]
  },
  {
   "cell_type": "markdown",
   "id": "e5f21520-8040-40a9-a734-f9cf29e773c4",
   "metadata": {},
   "source": [
    "## Question 6"
   ]
  },
  {
   "cell_type": "markdown",
   "id": "4bc9ab15-b104-4930-a622-cf04de047f55",
   "metadata": {},
   "source": [
    "You can turn a word into pig-Latin using the following two rules (simplified):\n",
    "\n",
    "    • If the word starts with a consonant, move that letter to the end and append 'ay'. For example,'happy' becomes 'appyhay' and 'pencil' becomes 'encilpay'.\n",
    "    \n",
    "    • If the word starts with a vowel, simply append 'way' to the end of the word. For example, 'enter' becomes 'enterway' and 'other' becomes 'otherway' . For our purposes, there are 5 vowels: a, e, i, o, u (so we count y as a consonant).\n",
    "    \n",
    "\n",
    "Write a function pig() that takes a word (i.e., a string) as input and returns its pigLatin form. Your function should still work if the input word contains upper case characters. Your output should always be lower case however. "
   ]
  },
  {
   "cell_type": "markdown",
   "id": "3c1c36ae-0906-46bf-85fd-759a968298ab",
   "metadata": {},
   "source": [
    "## Answer 6"
   ]
  },
  {
   "cell_type": "code",
   "execution_count": 44,
   "id": "3bc728c3-fff1-4495-9e92-d1cfecbb2a20",
   "metadata": {},
   "outputs": [
    {
     "name": "stdout",
     "output_type": "stream",
     "text": [
      "appyhay\n",
      "enterway\n"
     ]
    }
   ],
   "source": [
    "def pig(word):\n",
    "    word = word.lower()      # for the function to work if input word is in uppercase, we use lower() by taking reference from w3 schools\n",
    "                             # https://www.w3schools.com/python/ref_string_lower.asp\n",
    "\n",
    "    vowels = ['a', 'e', 'i', 'o', 'u']\n",
    "    # checking if the word start with vowel or not\n",
    "    if word[0] in vowels:\n",
    "        word = word + 'way'\n",
    "        return word\n",
    "    else:\n",
    "        word = word[1:] + word[0] + 'ay'\n",
    "        return word\n",
    "\n",
    "print(pig('happy'))\n",
    "print(pig('Enter'))"
   ]
  },
  {
   "cell_type": "markdown",
   "id": "8eac6103-3c2b-4bf0-a7a4-ffcdd50fc94b",
   "metadata": {},
   "source": [
    "## Question 7"
   ]
  },
  {
   "cell_type": "markdown",
   "id": "339f4539-2cf5-45f0-8be9-cfdaf4f63049",
   "metadata": {},
   "source": [
    "File bloodtype1.txt records blood-types of patients (A, B, AB, O or OO) at a clinic. Write a function bldcount() that reads the file with name name and reports (i.e., prints) how many patients there are in each bloodtype.\n"
   ]
  },
  {
   "cell_type": "markdown",
   "id": "88291be4-678c-4c9f-8941-97ff61a4aed3",
   "metadata": {},
   "source": [
    "## Answer 7"
   ]
  },
  {
   "cell_type": "code",
   "execution_count": 59,
   "id": "2a28391b-7910-484a-a432-4ece4ebf6eeb",
   "metadata": {},
   "outputs": [
    {
     "name": "stdout",
     "output_type": "stream",
     "text": [
      "There are 15 patients of blood type A.\n",
      "There is one patient of blood type B.\n",
      "There are 13 patients of blood type AB.\n",
      "There are 15 patients of blood type O.\n",
      "There are no patients of blood type OO.\n"
     ]
    }
   ],
   "source": [
    "def bldcount(file):\n",
    "    blood_types = {'A': 0, 'B': 0, 'AB': 0, 'O': 0, 'OO': 0}\n",
    "    \n",
    "    with open(file, 'r') as file:\n",
    "        blood_data = file.read().split()\n",
    "        \n",
    "        for blood_type in blood_data:\n",
    "            if blood_type in blood_types:           # To count blood types and add to dictionary,\n",
    "                blood_types[blood_type] += 1        # For this, I take help from stack overflow\n",
    "                                                    # https://stackoverflow.com/questions/14263872/only-add-to-a-dict-if-a-condition-is-met\n",
    "                       \n",
    "    for blood_type,count in blood_types.items():    # Reference from Stack overflow\n",
    "        if count == 0:\n",
    "            print(f\"There are no patients of blood type {blood_type}.\")\n",
    "        elif count == 1:\n",
    "            print(f\"There is one patient of blood type {blood_type}.\")\n",
    "        else:\n",
    "            print(f\"There are {count} patients of blood type {blood_type}.\")\n",
    "\n",
    "bldcount('bloodtype1.txt')"
   ]
  },
  {
   "cell_type": "markdown",
   "id": "cc0de4eb-d855-47ed-be0e-6b5cdb8a4957",
   "metadata": {},
   "source": [
    "## Question 8"
   ]
  },
  {
   "cell_type": "markdown",
   "id": "8a3dbacc-562d-4c17-8558-958b33d5c479",
   "metadata": {},
   "source": [
    "Write a function curconv() that takes as input:\n",
    "\n",
    "    1. a currency represented using a string (e.g., 'JPY' for the Japanese Yen or 'EUR' for the Euro)\n",
    "    \n",
    "    2. an amount\n",
    "    \n",
    "and then converts and returns the amount in US dollars.\n"
   ]
  },
  {
   "cell_type": "markdown",
   "id": "e290bf0f-5aad-4f3d-98c6-bfc9499068ec",
   "metadata": {},
   "source": [
    "## Answer 8"
   ]
  },
  {
   "cell_type": "code",
   "execution_count": 67,
   "id": "31599b95-07b2-4f5f-b3b6-0c77bc07dd13",
   "metadata": {},
   "outputs": [
    {
     "name": "stdout",
     "output_type": "stream",
     "text": [
      "122.96544\n",
      "1.241401\n"
     ]
    }
   ],
   "source": [
    "def curconv(currency, amount):\n",
    "    exchange_rates = {}\n",
    "\n",
    "    with open('currencies.txt', 'r') as file:\n",
    "        for line in file:\n",
    "            parts = line.split()\n",
    "            code = parts[0]\n",
    "            rate = float(parts[1])\n",
    "            exchange_rates[code] = rate\n",
    " \n",
    "    if currency in exchange_rates:                          # Convert the amount using the exchange rate\n",
    "        answer = amount * exchange_rates[currency]          # exchange_rates[currency] = exchange_rates[EUR] this will give the value of the EUR i.e. 1.2296544\n",
    "        return answer                                       # amount * 1.2296544 = answer which is further return\n",
    "                                                                          \n",
    "print(curconv('EUR', 100))\n",
    "print(curconv('JPY', 100))"
   ]
  },
  {
   "cell_type": "markdown",
   "id": "b2a6d91f-b573-4b60-a886-1a8e0dff7fd4",
   "metadata": {},
   "source": [
    "## Question 9"
   ]
  },
  {
   "cell_type": "markdown",
   "id": "04a583c0-cd36-4dfd-a8e6-575b15803fe4",
   "metadata": {},
   "source": [
    "Each of the following will cause an exception (an error). Identify what type of exception each will cause.\n",
    "\n",
    "a. Trying to add incompatible variables, as in adding 6 + ‘a’\n",
    "\n",
    "b. Referring to the 12th item of a list that has only 10 items\n",
    "\n",
    "c. Using a value that is out of range for a function’s input, such as calling math.sqrt(-1.0)\n",
    "\n",
    "d. Using an undeclared variable, such as print(x) when x has not been defined\n",
    "\n",
    "e. Trying to open a file that does not exist, such as mistyping the file name or looking in the wrong directory. "
   ]
  },
  {
   "cell_type": "markdown",
   "id": "f17861fe-f58f-4325-b911-18b3f0b57448",
   "metadata": {},
   "source": [
    "## Answer 9"
   ]
  },
  {
   "cell_type": "code",
   "execution_count": 68,
   "id": "28e73b7d-51c9-4191-ab3c-45ba95fbac7f",
   "metadata": {},
   "outputs": [
    {
     "ename": "TypeError",
     "evalue": "unsupported operand type(s) for +: 'int' and 'str'",
     "output_type": "error",
     "traceback": [
      "\u001b[1;31m---------------------------------------------------------------------------\u001b[0m",
      "\u001b[1;31mTypeError\u001b[0m                                 Traceback (most recent call last)",
      "Cell \u001b[1;32mIn[68], line 2\u001b[0m\n\u001b[0;32m      1\u001b[0m \u001b[38;5;66;03m# Ans a\u001b[39;00m\n\u001b[1;32m----> 2\u001b[0m answer \u001b[38;5;241m=\u001b[39m \u001b[38;5;241m6\u001b[39m \u001b[38;5;241m+\u001b[39m \u001b[38;5;124m'\u001b[39m\u001b[38;5;124ma\u001b[39m\u001b[38;5;124m'\u001b[39m\n",
      "\u001b[1;31mTypeError\u001b[0m: unsupported operand type(s) for +: 'int' and 'str'"
     ]
    }
   ],
   "source": [
    "# Ans a\n",
    "answer = 6 + 'a'             # TypeError"
   ]
  },
  {
   "cell_type": "code",
   "execution_count": 71,
   "id": "ee256cc3-5822-4b82-95d0-964c4bda3914",
   "metadata": {},
   "outputs": [
    {
     "ename": "IndexError",
     "evalue": "list index out of range",
     "output_type": "error",
     "traceback": [
      "\u001b[1;31m---------------------------------------------------------------------------\u001b[0m",
      "\u001b[1;31mIndexError\u001b[0m                                Traceback (most recent call last)",
      "Cell \u001b[1;32mIn[71], line 3\u001b[0m\n\u001b[0;32m      1\u001b[0m \u001b[38;5;66;03m# Ans b\u001b[39;00m\n\u001b[0;32m      2\u001b[0m \u001b[38;5;28mlist\u001b[39m \u001b[38;5;241m=\u001b[39m [\u001b[38;5;241m2\u001b[39m, \u001b[38;5;241m5\u001b[39m, \u001b[38;5;241m3\u001b[39m, \u001b[38;5;241m4\u001b[39m, \u001b[38;5;241m12\u001b[39m, \u001b[38;5;241m6\u001b[39m, \u001b[38;5;241m15\u001b[39m, \u001b[38;5;241m8\u001b[39m, \u001b[38;5;241m23\u001b[39m, \u001b[38;5;241m10\u001b[39m]\n\u001b[1;32m----> 3\u001b[0m item \u001b[38;5;241m=\u001b[39m \u001b[38;5;28mlist\u001b[39m[\u001b[38;5;241m11\u001b[39m]\n",
      "\u001b[1;31mIndexError\u001b[0m: list index out of range"
     ]
    }
   ],
   "source": [
    "# Ans b\n",
    "list = [2, 5, 3, 4, 12, 6, 15, 8, 23, 10]\n",
    "item = list[11]        # 11 because indexing start from 0 in list\n",
    "                       # IndexError"
   ]
  },
  {
   "cell_type": "code",
   "execution_count": 73,
   "id": "804de8ee-c1c0-417f-901a-2a04c79a510b",
   "metadata": {},
   "outputs": [
    {
     "ename": "ValueError",
     "evalue": "math domain error",
     "output_type": "error",
     "traceback": [
      "\u001b[1;31m---------------------------------------------------------------------------\u001b[0m",
      "\u001b[1;31mValueError\u001b[0m                                Traceback (most recent call last)",
      "Cell \u001b[1;32mIn[73], line 3\u001b[0m\n\u001b[0;32m      1\u001b[0m \u001b[38;5;66;03m# Ans c\u001b[39;00m\n\u001b[0;32m      2\u001b[0m \u001b[38;5;28;01mimport\u001b[39;00m \u001b[38;5;21;01mmath\u001b[39;00m\n\u001b[1;32m----> 3\u001b[0m ans \u001b[38;5;241m=\u001b[39m math\u001b[38;5;241m.\u001b[39msqrt(\u001b[38;5;241m-\u001b[39m\u001b[38;5;241m1.0\u001b[39m)\n",
      "\u001b[1;31mValueError\u001b[0m: math domain error"
     ]
    }
   ],
   "source": [
    "# Ans c\n",
    "import math\n",
    "ans = math.sqrt(-1.0)            # ValueError"
   ]
  },
  {
   "cell_type": "code",
   "execution_count": 77,
   "id": "f4cd4a7d-4f36-4ec7-a530-39e167a6b71b",
   "metadata": {},
   "outputs": [
    {
     "ename": "NameError",
     "evalue": "name 'weather' is not defined",
     "output_type": "error",
     "traceback": [
      "\u001b[1;31m---------------------------------------------------------------------------\u001b[0m",
      "\u001b[1;31mNameError\u001b[0m                                 Traceback (most recent call last)",
      "Cell \u001b[1;32mIn[77], line 3\u001b[0m\n\u001b[0;32m      1\u001b[0m \u001b[38;5;66;03m# Ans d \u001b[39;00m\n\u001b[0;32m      2\u001b[0m \u001b[38;5;66;03m# when we put x in print statement it will give output as 1 (don't knoiw why)\u001b[39;00m\n\u001b[1;32m----> 3\u001b[0m \u001b[38;5;28mprint\u001b[39m(weather)\n",
      "\u001b[1;31mNameError\u001b[0m: name 'weather' is not defined"
     ]
    }
   ],
   "source": [
    "# Ans d \n",
    "# when we put x in print statement it will give output as 1 (don't knoiw why)\n",
    "print(weather)                    # NameError"
   ]
  },
  {
   "cell_type": "code",
   "execution_count": 78,
   "id": "ec990478-6d69-4567-b28d-8adbba4a24dd",
   "metadata": {},
   "outputs": [
    {
     "ename": "FileNotFoundError",
     "evalue": "[Errno 2] No such file or directory: 'weather.txt'",
     "output_type": "error",
     "traceback": [
      "\u001b[1;31m---------------------------------------------------------------------------\u001b[0m",
      "\u001b[1;31mFileNotFoundError\u001b[0m                         Traceback (most recent call last)",
      "Cell \u001b[1;32mIn[78], line 2\u001b[0m\n\u001b[0;32m      1\u001b[0m \u001b[38;5;66;03m# Ans e\u001b[39;00m\n\u001b[1;32m----> 2\u001b[0m \u001b[38;5;28;01mwith\u001b[39;00m \u001b[38;5;28mopen\u001b[39m(\u001b[38;5;124m'\u001b[39m\u001b[38;5;124mweather.txt\u001b[39m\u001b[38;5;124m'\u001b[39m, \u001b[38;5;124m'\u001b[39m\u001b[38;5;124mr\u001b[39m\u001b[38;5;124m'\u001b[39m) \u001b[38;5;28;01mas\u001b[39;00m file:\n\u001b[0;32m      3\u001b[0m     report \u001b[38;5;241m=\u001b[39m file\u001b[38;5;241m.\u001b[39mread()\n",
      "File \u001b[1;32m~\\anaconda3\\Lib\\site-packages\\IPython\\core\\interactiveshell.py:310\u001b[0m, in \u001b[0;36m_modified_open\u001b[1;34m(file, *args, **kwargs)\u001b[0m\n\u001b[0;32m    303\u001b[0m \u001b[38;5;28;01mif\u001b[39;00m file \u001b[38;5;129;01min\u001b[39;00m {\u001b[38;5;241m0\u001b[39m, \u001b[38;5;241m1\u001b[39m, \u001b[38;5;241m2\u001b[39m}:\n\u001b[0;32m    304\u001b[0m     \u001b[38;5;28;01mraise\u001b[39;00m \u001b[38;5;167;01mValueError\u001b[39;00m(\n\u001b[0;32m    305\u001b[0m         \u001b[38;5;124mf\u001b[39m\u001b[38;5;124m\"\u001b[39m\u001b[38;5;124mIPython won\u001b[39m\u001b[38;5;124m'\u001b[39m\u001b[38;5;124mt let you open fd=\u001b[39m\u001b[38;5;132;01m{\u001b[39;00mfile\u001b[38;5;132;01m}\u001b[39;00m\u001b[38;5;124m by default \u001b[39m\u001b[38;5;124m\"\u001b[39m\n\u001b[0;32m    306\u001b[0m         \u001b[38;5;124m\"\u001b[39m\u001b[38;5;124mas it is likely to crash IPython. If you know what you are doing, \u001b[39m\u001b[38;5;124m\"\u001b[39m\n\u001b[0;32m    307\u001b[0m         \u001b[38;5;124m\"\u001b[39m\u001b[38;5;124myou can use builtins\u001b[39m\u001b[38;5;124m'\u001b[39m\u001b[38;5;124m open.\u001b[39m\u001b[38;5;124m\"\u001b[39m\n\u001b[0;32m    308\u001b[0m     )\n\u001b[1;32m--> 310\u001b[0m \u001b[38;5;28;01mreturn\u001b[39;00m io_open(file, \u001b[38;5;241m*\u001b[39margs, \u001b[38;5;241m*\u001b[39m\u001b[38;5;241m*\u001b[39mkwargs)\n",
      "\u001b[1;31mFileNotFoundError\u001b[0m: [Errno 2] No such file or directory: 'weather.txt'"
     ]
    }
   ],
   "source": [
    "# Ans e\n",
    "with open('weather.txt', 'r') as file:\n",
    "    report = file.read()           # FileNotFoundError"
   ]
  },
  {
   "cell_type": "markdown",
   "id": "2abe7adc-6fac-46a8-8b9d-08a38ae16f12",
   "metadata": {},
   "source": [
    "## Question 10"
   ]
  },
  {
   "cell_type": "markdown",
   "id": "5f78ec5d-892d-4046-9296-04253d7e1d6e",
   "metadata": {},
   "source": [
    "Encryption is the process of hiding the meaning of a text by substituting letters in the message with other letters, according to some system. If the process is successful, no one but the intended recipient can understand the encrypted message. Cryptanalysis refers to attempts to undo the encryption, even if some details of the encryption are unknown (for example, if an encrypted message has been intercepted). The first step of cryptanalysis is often to build up a table of letter frequencies in the encrypted text.\n",
    "\n",
    "Q. Assume that the string letters is already defined as 'abcdefghijklmnopqrstuvwxyz'. Write a function called frequencies() that takes a string as its only parameter, and returns a list of integers, showing the number of times each character appears in the text. Your function may ignore any characters that are not in letters. "
   ]
  },
  {
   "cell_type": "markdown",
   "id": "5b4ded48-886d-4da5-a086-041a91bb156e",
   "metadata": {},
   "source": [
    "## Answer 10"
   ]
  },
  {
   "cell_type": "code",
   "execution_count": 4,
   "id": "8faeee0d-49c1-4513-84f8-0f21adfd8015",
   "metadata": {},
   "outputs": [
    {
     "name": "stdout",
     "output_type": "stream",
     "text": [
      "[1, 1, 1, 3, 5, 1, 1, 2, 1, 0, 1, 0, 1, 2, 4, 0, 1, 2, 0, 3, 1, 0, 1, 1, 0, 0]\n"
     ]
    }
   ],
   "source": [
    "def frequencies(input_string):\n",
    "    alphabets = 'abcdefghijklmnopqrstuvwxyz'\n",
    "    freq = [0] * 26             # 26 letters in the alphabet, so first assign 26 zeros\n",
    "    \n",
    "    for char in input_string.lower():  \n",
    "        if char in alphabets:\n",
    "            index = alphabets.index(char)  # in first case, char = 't', index(char) = 19\n",
    "            freq[index] += 1               # so in 19th position, 1 is added\n",
    "    \n",
    "    return freq\n",
    "\n",
    "input_string = \"The quick red fox got bored and went home.\"\n",
    "result = frequencies(input_string)\n",
    "print(result)"
   ]
  }
 ],
 "metadata": {
  "kernelspec": {
   "display_name": "Python 3 (ipykernel)",
   "language": "python",
   "name": "python3"
  },
  "language_info": {
   "codemirror_mode": {
    "name": "ipython",
    "version": 3
   },
   "file_extension": ".py",
   "mimetype": "text/x-python",
   "name": "python",
   "nbconvert_exporter": "python",
   "pygments_lexer": "ipython3",
   "version": "3.11.7"
  }
 },
 "nbformat": 4,
 "nbformat_minor": 5
}
